{
 "cells": [
  {
   "cell_type": "code",
   "execution_count": 1,
   "metadata": {
    "collapsed": true
   },
   "outputs": [],
   "source": [
    "import findspark\n",
    "findspark.init()\n",
    "import pyspark\n",
    "import os\n",
    "\n",
    "sc = pyspark.SparkContext()\n",
    "spark = pyspark.SQLContext(sc)\n",
    "\n",
    "working_dir = os.getcwd()"
   ]
  },
  {
   "cell_type": "code",
   "execution_count": 2,
   "metadata": {
    "collapsed": false
   },
   "outputs": [],
   "source": [
    "# Load parquet file into dataframe\n",
    "df = spark.read.parquet(\"file://\" + working_dir + \"/testDataset/part-00000-711fabb0-5efc-4d83-afad-0e03a3156794.snappy.parquet\")"
   ]
  },
  {
   "cell_type": "code",
   "execution_count": 3,
   "metadata": {
    "collapsed": false
   },
   "outputs": [
    {
     "data": {
      "text/plain": [
       "600000"
      ]
     },
     "execution_count": 3,
     "metadata": {},
     "output_type": "execute_result"
    }
   ],
   "source": [
    "# Count lines\n",
    "df.count()"
   ]
  },
  {
   "cell_type": "code",
   "execution_count": 4,
   "metadata": {
    "collapsed": false
   },
   "outputs": [
    {
     "name": "stdout",
     "output_type": "stream",
     "text": [
      "+--------------------+--------------------+-------------------+---------+--------+---------+\n",
      "|            deviceId|             eventId|          eventTime|      lat|     lon|eventType|\n",
      "+--------------------+--------------------+-------------------+---------+--------+---------+\n",
      "|8f88ac99-8aa5-88a...|000c5bd2-d2d5-4cf...|2017-05-24 12:34:40|47.409271|8.547062| location|\n",
      "|8f88ac99-8aa5-88a...|001b3982-ec22-4bb...|2017-05-24 16:21:41|47.417977|8.554384| location|\n",
      "|8f88ac99-8aa5-88a...|00287463-b763-40b...|2017-05-24 16:02:50|47.416406| 8.55298| location|\n",
      "|8f88ac99-8aa5-88a...|002946bb-19b8-40a...|2017-05-24 15:03:39|47.417743|8.554184| location|\n",
      "|8f88ac99-8aa5-88a...|002947fd-bb93-434...|2017-05-24 12:56:02|47.406545|8.547231| location|\n",
      "+--------------------+--------------------+-------------------+---------+--------+---------+\n",
      "only showing top 5 rows\n",
      "\n"
     ]
    }
   ],
   "source": [
    "# Show first 5 lines\n",
    "df.show(5)"
   ]
  },
  {
   "cell_type": "code",
   "execution_count": 5,
   "metadata": {
    "collapsed": false
   },
   "outputs": [
    {
     "data": {
      "text/plain": [
       "<bound method DataFrame.dropna of DataFrame[deviceId: string, eventId: string, eventTime: timestamp, lat: double, lon: double, eventType: string]>"
      ]
     },
     "execution_count": 5,
     "metadata": {},
     "output_type": "execute_result"
    }
   ],
   "source": [
    "# Remove rows with any null or NaN value\n",
    "df.dropna"
   ]
  },
  {
   "cell_type": "code",
   "execution_count": 6,
   "metadata": {
    "collapsed": true
   },
   "outputs": [],
   "source": [
    "# Create Temp View from the dataset\n",
    "df.createOrReplaceTempView(\"dataset\")"
   ]
  },
  {
   "cell_type": "markdown",
   "metadata": {},
   "source": [
    "### Remove unnecessary event types\n",
    "Since we are going to predict estimation based on the start position, we won't need the rest of events (location, etc). Also, we remove rows with gps non valid values (0.0)."
   ]
  },
  {
   "cell_type": "code",
   "execution_count": 7,
   "metadata": {
    "collapsed": false
   },
   "outputs": [],
   "source": [
    "# 1. Create a view with only the values we need for processing\n",
    "spark.sql(\"SELECT deviceId, eventTime, lat, lon, eventType FROM dataset WHERE (eventType='trip-start' OR eventType='trip-end') \\\n",
    "AND (lat != 0.0 and lon != 0.0) ORDER BY eventTime\").createOrReplaceTempView(\"cleands\")\n"
   ]
  },
  {
   "cell_type": "markdown",
   "metadata": {},
   "source": [
    "## Explore data transformation for a single device\n",
    "The purpose is to reduce the problem so that we are sure that the transformations that we apply to the data produce the desired results. \n",
    "The aim of these transformations is to clean the dataset and take only the correctly paired start-trip / end-trip data."
   ]
  },
  {
   "cell_type": "code",
   "execution_count": 8,
   "metadata": {
    "collapsed": false
   },
   "outputs": [
    {
     "name": "stdout",
     "output_type": "stream",
     "text": [
      "+------------------------------------+-------------------+---------+----------+----------+\n",
      "|deviceId                            |eventTime          |lat      |lon       |eventType |\n",
      "+------------------------------------+-------------------+---------+----------+----------+\n",
      "|D08699AE-BDAC-4AB4-2F15-177C74993133|2017-05-25 23:46:05|32.988837|-97.263735|trip-end  |\n",
      "|D08699AE-BDAC-4AB4-2F15-177C74993133|2017-05-25 23:46:09|32.988837|-97.263735|trip-end  |\n",
      "|D08699AE-BDAC-4AB4-2F15-177C74993133|2017-05-26 00:35:30|32.98925 |-97.263821|trip-end  |\n",
      "|D08699AE-BDAC-4AB4-2F15-177C74993133|2017-05-26 00:35:39|32.989253|-97.263822|trip-start|\n",
      "|D08699AE-BDAC-4AB4-2F15-177C74993133|2017-05-26 02:08:40|32.841525|-97.068658|trip-end  |\n",
      "|D08699AE-BDAC-4AB4-2F15-177C74993133|2017-05-26 02:08:46|32.841525|-97.068658|trip-end  |\n",
      "|D08699AE-BDAC-4AB4-2F15-177C74993133|2017-05-26 13:57:30|32.926142|-97.087224|trip-start|\n",
      "|D08699AE-BDAC-4AB4-2F15-177C74993133|2017-05-26 19:17:41|32.98928 |-97.264482|trip-start|\n",
      "|D08699AE-BDAC-4AB4-2F15-177C74993133|2017-05-26 19:19:30|32.988822|-97.263723|trip-end  |\n",
      "|D08699AE-BDAC-4AB4-2F15-177C74993133|2017-05-31 14:35:46|32.988778|-97.263861|trip-end  |\n",
      "|D08699AE-BDAC-4AB4-2F15-177C74993133|2017-06-01 00:11:22|32.989214|-97.26381 |trip-start|\n",
      "|D08699AE-BDAC-4AB4-2F15-177C74993133|2017-06-01 00:38:47|32.841445|-97.06854 |trip-end  |\n",
      "|D08699AE-BDAC-4AB4-2F15-177C74993133|2017-06-01 13:31:50|32.790594|-97.134356|trip-end  |\n",
      "|D08699AE-BDAC-4AB4-2F15-177C74993133|2017-06-01 13:44:54|32.789698|-97.133493|trip-start|\n",
      "|D08699AE-BDAC-4AB4-2F15-177C74993133|2017-06-02 01:17:43|32.84152 |-97.068662|trip-end  |\n",
      "|D08699AE-BDAC-4AB4-2F15-177C74993133|2017-06-02 14:07:44|32.841552|-97.068303|trip-start|\n",
      "|D08699AE-BDAC-4AB4-2F15-177C74993133|2017-06-02 14:32:29|32.988817|-97.263714|trip-end  |\n",
      "|D08699AE-BDAC-4AB4-2F15-177C74993133|2017-06-08 02:19:02|32.822621|-97.058403|trip-start|\n",
      "|D08699AE-BDAC-4AB4-2F15-177C74993133|2017-06-08 13:53:49|32.847142|-97.076774|trip-end  |\n",
      "|D08699AE-BDAC-4AB4-2F15-177C74993133|2017-06-08 13:53:59|32.847143|-97.076774|trip-start|\n",
      "|D08699AE-BDAC-4AB4-2F15-177C74993133|2017-06-09 00:04:53|32.841374|-97.067877|trip-start|\n",
      "|D08699AE-BDAC-4AB4-2F15-177C74993133|2017-06-09 00:05:51|32.841491|-97.068668|trip-end  |\n",
      "|D08699AE-BDAC-4AB4-2F15-177C74993133|2017-06-09 13:56:07|32.840194|-97.083023|trip-end  |\n",
      "|D08699AE-BDAC-4AB4-2F15-177C74993133|2017-06-09 13:56:39|32.840282|-97.083114|trip-end  |\n",
      "|D08699AE-BDAC-4AB4-2F15-177C74993133|2017-06-09 13:57:15|32.843793|-97.081171|trip-start|\n",
      "|D08699AE-BDAC-4AB4-2F15-177C74993133|2017-06-09 13:57:39|32.845665|-97.077159|trip-start|\n",
      "|D08699AE-BDAC-4AB4-2F15-177C74993133|2017-06-09 13:58:24|32.84612 |-97.071799|trip-start|\n",
      "|D08699AE-BDAC-4AB4-2F15-177C74993133|2017-06-10 00:58:05|32.989001|-97.263582|trip-start|\n",
      "|D08699AE-BDAC-4AB4-2F15-177C74993133|2017-06-10 01:23:09|32.841531|-97.068663|trip-end  |\n",
      "|D08699AE-BDAC-4AB4-2F15-177C74993133|2017-06-12 14:46:15|32.988817|-97.26363 |trip-end  |\n",
      "|D08699AE-BDAC-4AB4-2F15-177C74993133|2017-06-13 01:17:59|32.841514|-97.068597|trip-end  |\n",
      "+------------------------------------+-------------------+---------+----------+----------+\n",
      "\n"
     ]
    }
   ],
   "source": [
    "# Show an example of data for a certain device\n",
    "singleDevice = spark.sql(\"SELECT * FROM cleands WHERE deviceId='D08699AE-BDAC-4AB4-2F15-177C74993133'\")\n",
    "singleDevice.createOrReplaceTempView(\"singledevice\")\n",
    "singleDevice.show(100, False)"
   ]
  },
  {
   "cell_type": "markdown",
   "metadata": {},
   "source": [
    "### 1. Extract previous and next event for every row\n",
    "To do this, we use LAG and LEAD window functions to shift the data. The result will add two new columns *previousEvent* and *nextEvent* to the dataset"
   ]
  },
  {
   "cell_type": "code",
   "execution_count": 9,
   "metadata": {
    "collapsed": false
   },
   "outputs": [
    {
     "name": "stdout",
     "output_type": "stream",
     "text": [
      "+--------------------+-------------------+---------+----------+----------+-------------+----------+\n",
      "|            deviceId|          eventTime|      lat|       lon| eventType|previousEvent| nextEvent|\n",
      "+--------------------+-------------------+---------+----------+----------+-------------+----------+\n",
      "|D08699AE-BDAC-4AB...|2017-05-25 23:46:05|32.988837|-97.263735|  trip-end|         null|  trip-end|\n",
      "|D08699AE-BDAC-4AB...|2017-05-25 23:46:09|32.988837|-97.263735|  trip-end|     trip-end|  trip-end|\n",
      "|D08699AE-BDAC-4AB...|2017-05-26 00:35:30| 32.98925|-97.263821|  trip-end|     trip-end|trip-start|\n",
      "|D08699AE-BDAC-4AB...|2017-05-26 00:35:39|32.989253|-97.263822|trip-start|     trip-end|  trip-end|\n",
      "|D08699AE-BDAC-4AB...|2017-05-26 02:08:40|32.841525|-97.068658|  trip-end|   trip-start|  trip-end|\n",
      "|D08699AE-BDAC-4AB...|2017-05-26 02:08:46|32.841525|-97.068658|  trip-end|     trip-end|trip-start|\n",
      "|D08699AE-BDAC-4AB...|2017-05-26 13:57:30|32.926142|-97.087224|trip-start|     trip-end|trip-start|\n",
      "|D08699AE-BDAC-4AB...|2017-05-26 19:17:41| 32.98928|-97.264482|trip-start|   trip-start|  trip-end|\n",
      "|D08699AE-BDAC-4AB...|2017-05-26 19:19:30|32.988822|-97.263723|  trip-end|   trip-start|  trip-end|\n",
      "|D08699AE-BDAC-4AB...|2017-05-31 14:35:46|32.988778|-97.263861|  trip-end|     trip-end|trip-start|\n",
      "|D08699AE-BDAC-4AB...|2017-06-01 00:11:22|32.989214| -97.26381|trip-start|     trip-end|  trip-end|\n",
      "|D08699AE-BDAC-4AB...|2017-06-01 00:38:47|32.841445| -97.06854|  trip-end|   trip-start|  trip-end|\n",
      "|D08699AE-BDAC-4AB...|2017-06-01 13:31:50|32.790594|-97.134356|  trip-end|     trip-end|trip-start|\n",
      "|D08699AE-BDAC-4AB...|2017-06-01 13:44:54|32.789698|-97.133493|trip-start|     trip-end|  trip-end|\n",
      "|D08699AE-BDAC-4AB...|2017-06-02 01:17:43| 32.84152|-97.068662|  trip-end|   trip-start|trip-start|\n",
      "|D08699AE-BDAC-4AB...|2017-06-02 14:07:44|32.841552|-97.068303|trip-start|     trip-end|  trip-end|\n",
      "|D08699AE-BDAC-4AB...|2017-06-02 14:32:29|32.988817|-97.263714|  trip-end|   trip-start|trip-start|\n",
      "|D08699AE-BDAC-4AB...|2017-06-08 02:19:02|32.822621|-97.058403|trip-start|     trip-end|  trip-end|\n",
      "|D08699AE-BDAC-4AB...|2017-06-08 13:53:49|32.847142|-97.076774|  trip-end|   trip-start|trip-start|\n",
      "|D08699AE-BDAC-4AB...|2017-06-08 13:53:59|32.847143|-97.076774|trip-start|     trip-end|trip-start|\n",
      "|D08699AE-BDAC-4AB...|2017-06-09 00:04:53|32.841374|-97.067877|trip-start|   trip-start|  trip-end|\n",
      "|D08699AE-BDAC-4AB...|2017-06-09 00:05:51|32.841491|-97.068668|  trip-end|   trip-start|  trip-end|\n",
      "|D08699AE-BDAC-4AB...|2017-06-09 13:56:07|32.840194|-97.083023|  trip-end|     trip-end|  trip-end|\n",
      "|D08699AE-BDAC-4AB...|2017-06-09 13:56:39|32.840282|-97.083114|  trip-end|     trip-end|trip-start|\n",
      "|D08699AE-BDAC-4AB...|2017-06-09 13:57:15|32.843793|-97.081171|trip-start|     trip-end|trip-start|\n",
      "|D08699AE-BDAC-4AB...|2017-06-09 13:57:39|32.845665|-97.077159|trip-start|   trip-start|trip-start|\n",
      "|D08699AE-BDAC-4AB...|2017-06-09 13:58:24| 32.84612|-97.071799|trip-start|   trip-start|trip-start|\n",
      "|D08699AE-BDAC-4AB...|2017-06-10 00:58:05|32.989001|-97.263582|trip-start|   trip-start|  trip-end|\n",
      "|D08699AE-BDAC-4AB...|2017-06-10 01:23:09|32.841531|-97.068663|  trip-end|   trip-start|  trip-end|\n",
      "|D08699AE-BDAC-4AB...|2017-06-12 14:46:15|32.988817| -97.26363|  trip-end|     trip-end|  trip-end|\n",
      "|D08699AE-BDAC-4AB...|2017-06-13 01:17:59|32.841514|-97.068597|  trip-end|     trip-end|      null|\n",
      "+--------------------+-------------------+---------+----------+----------+-------------+----------+\n",
      "\n"
     ]
    }
   ],
   "source": [
    "# Shift values of eventType to add previous and next event\n",
    "singleDevice = spark.sql(\"SELECT *, LAG(eventType, 1) OVER (ORDER BY eventTime) AS previousEvent, \\\n",
    "LEAD(eventType, 1) OVER (ORDER BY eventTime) AS nextEvent FROM singledevice\")\n",
    "singleDevice.createOrReplaceTempView(\"singledevice\")\n",
    "singleDevice.show(100)"
   ]
  },
  {
   "cell_type": "markdown",
   "metadata": {},
   "source": [
    "### 2. Remove trip-start and trip-end non valid rows\n",
    "The only valid data is that which defines a valid trip, that is, a trip-start followed by a trip-end event. Those trip-start with no trip-end after it, or those trip-end without a preceeding trip-start are removed from the dataset."
   ]
  },
  {
   "cell_type": "code",
   "execution_count": 10,
   "metadata": {
    "collapsed": false
   },
   "outputs": [
    {
     "name": "stdout",
     "output_type": "stream",
     "text": [
      "+------------------------------------+-------------------+---------+----------+----------+\n",
      "|deviceId                            |eventTime          |lat      |lon       |eventType |\n",
      "+------------------------------------+-------------------+---------+----------+----------+\n",
      "|D08699AE-BDAC-4AB4-2F15-177C74993133|2017-05-26 00:35:39|32.989253|-97.263822|trip-start|\n",
      "|D08699AE-BDAC-4AB4-2F15-177C74993133|2017-05-26 02:08:40|32.841525|-97.068658|trip-end  |\n",
      "|D08699AE-BDAC-4AB4-2F15-177C74993133|2017-05-26 19:17:41|32.98928 |-97.264482|trip-start|\n",
      "|D08699AE-BDAC-4AB4-2F15-177C74993133|2017-05-26 19:19:30|32.988822|-97.263723|trip-end  |\n",
      "|D08699AE-BDAC-4AB4-2F15-177C74993133|2017-06-01 00:11:22|32.989214|-97.26381 |trip-start|\n",
      "|D08699AE-BDAC-4AB4-2F15-177C74993133|2017-06-01 00:38:47|32.841445|-97.06854 |trip-end  |\n",
      "|D08699AE-BDAC-4AB4-2F15-177C74993133|2017-06-01 13:44:54|32.789698|-97.133493|trip-start|\n",
      "|D08699AE-BDAC-4AB4-2F15-177C74993133|2017-06-02 01:17:43|32.84152 |-97.068662|trip-end  |\n",
      "|D08699AE-BDAC-4AB4-2F15-177C74993133|2017-06-02 14:07:44|32.841552|-97.068303|trip-start|\n",
      "|D08699AE-BDAC-4AB4-2F15-177C74993133|2017-06-02 14:32:29|32.988817|-97.263714|trip-end  |\n",
      "|D08699AE-BDAC-4AB4-2F15-177C74993133|2017-06-08 02:19:02|32.822621|-97.058403|trip-start|\n",
      "|D08699AE-BDAC-4AB4-2F15-177C74993133|2017-06-08 13:53:49|32.847142|-97.076774|trip-end  |\n",
      "|D08699AE-BDAC-4AB4-2F15-177C74993133|2017-06-09 00:04:53|32.841374|-97.067877|trip-start|\n",
      "|D08699AE-BDAC-4AB4-2F15-177C74993133|2017-06-09 00:05:51|32.841491|-97.068668|trip-end  |\n",
      "|D08699AE-BDAC-4AB4-2F15-177C74993133|2017-06-10 00:58:05|32.989001|-97.263582|trip-start|\n",
      "|D08699AE-BDAC-4AB4-2F15-177C74993133|2017-06-10 01:23:09|32.841531|-97.068663|trip-end  |\n",
      "+------------------------------------+-------------------+---------+----------+----------+\n",
      "\n"
     ]
    }
   ],
   "source": [
    "# Remove non valid trip-start and trip-end (those without its corresponding pair)\n",
    "singleDevice = spark.sql(\"SELECT deviceId, eventTime, lat, lon, eventType FROM singledevice \\\n",
    "WHERE NOT ((eventType='trip-end' AND previousEvent='trip-end') \\\n",
    "OR (eventType='trip-start' AND nextEvent='trip-start'))\")\n",
    "singleDevice.createOrReplaceTempView(\"singledevice\")\n",
    "singleDevice.show(20, False)\n"
   ]
  },
  {
   "cell_type": "markdown",
   "metadata": {},
   "source": [
    "### 3. Put all the data of every complete trip in the same row\n",
    "We move the position and time data of every complete trip in a single row. This way we will be able to process each row as a trip, and we'll no longer need deviceId or eventType"
   ]
  },
  {
   "cell_type": "code",
   "execution_count": 11,
   "metadata": {
    "collapsed": false
   },
   "outputs": [
    {
     "name": "stdout",
     "output_type": "stream",
     "text": [
      "+-------------------+-------------------+---------+----------+---------+----------+\n",
      "|eventTimeStart     |eventTimeEnd       |latStart |lonStart  |latEnd   |lonEnd    |\n",
      "+-------------------+-------------------+---------+----------+---------+----------+\n",
      "|2017-05-26 00:35:39|2017-05-26 02:08:40|32.989253|-97.263822|32.841525|-97.068658|\n",
      "|2017-05-26 19:17:41|2017-05-26 19:19:30|32.98928 |-97.264482|32.988822|-97.263723|\n",
      "|2017-06-01 00:11:22|2017-06-01 00:38:47|32.989214|-97.26381 |32.841445|-97.06854 |\n",
      "|2017-06-01 13:44:54|2017-06-02 01:17:43|32.789698|-97.133493|32.84152 |-97.068662|\n",
      "|2017-06-02 14:07:44|2017-06-02 14:32:29|32.841552|-97.068303|32.988817|-97.263714|\n",
      "|2017-06-08 02:19:02|2017-06-08 13:53:49|32.822621|-97.058403|32.847142|-97.076774|\n",
      "|2017-06-09 00:04:53|2017-06-09 00:05:51|32.841374|-97.067877|32.841491|-97.068668|\n",
      "|2017-06-10 00:58:05|2017-06-10 01:23:09|32.989001|-97.263582|32.841531|-97.068663|\n",
      "+-------------------+-------------------+---------+----------+---------+----------+\n",
      "\n"
     ]
    }
   ],
   "source": [
    "# Move start and end values of a trip to a single row. We won't need deviceId any more\n",
    "singleDevice = spark.sql(\"SELECT eventTime AS eventTimeStart, \\\n",
    "LEAD(eventTime, 1) OVER (ORDER BY eventTime) AS eventTimeEnd, lat AS latStart, lon AS lonStart, \\\n",
    "LEAD(lat, 1) OVER (ORDER BY eventTime) AS latEnd, \\\n",
    "LEAD(lon, 1) OVER (ORDER BY eventTime) AS lonEnd, \\\n",
    "eventType FROM singledevice\")\n",
    "singleDevice.createOrReplaceTempView(\"singledevice\")\n",
    "singleDevice = spark.sql(\"SELECT eventTimeStart, eventTimeEnd, latStart, lonStart, latEnd, lonEnd \\\n",
    "FROM singledevice WHERE eventType='trip-start'\")\n",
    "singleDevice.createOrReplaceTempView(\"singledevice\")\n",
    "singleDevice.show(100, False)"
   ]
  },
  {
   "cell_type": "markdown",
   "metadata": {},
   "source": [
    "## Apply the transformations to the whole dataset"
   ]
  },
  {
   "cell_type": "markdown",
   "metadata": {},
   "source": [
    "### 1. Extract previous and next event for every row\n",
    "To do this, we use LAG and LEAD window functions to shift the data. The result will add two new columns *previousEvent* and *nextEvent* to the dataset"
   ]
  },
  {
   "cell_type": "code",
   "execution_count": 12,
   "metadata": {
    "collapsed": false
   },
   "outputs": [
    {
     "name": "stdout",
     "output_type": "stream",
     "text": [
      "+--------------------+-------------------+----------+---------+----------+-------------+---------+\n",
      "|            deviceId|          eventTime|       lat|      lon| eventType|previousEvent|nextEvent|\n",
      "+--------------------+-------------------+----------+---------+----------+-------------+---------+\n",
      "|11111111-1b2a-4bc...|2017-03-22 16:50:25|38.7735368|-9.168737|trip-start|         null| trip-end|\n",
      "|11111111-1b2a-4bc...|2017-03-22 17:14:26|  38.76522|-9.098054|  trip-end|   trip-start| trip-end|\n",
      "|11111111-1b2a-4bc...|2017-03-22 17:14:26|  38.76522|-9.098054|  trip-end|     trip-end|     null|\n",
      "|11111111-2605-430...|2017-03-22 17:14:26|  38.76522|-9.098054|  trip-end|         null| trip-end|\n",
      "|11111111-2605-430...|2017-03-22 17:14:26|  38.76522|-9.098054|  trip-end|     trip-end|     null|\n",
      "|11111111-3306-4d3...|2017-03-22 16:50:25|38.7735368|-9.168737|trip-start|         null| trip-end|\n",
      "|11111111-3306-4d3...|2017-03-22 17:14:26|  38.76522|-9.098054|  trip-end|   trip-start| trip-end|\n",
      "|11111111-3306-4d3...|2017-03-22 17:14:26|  38.76522|-9.098054|  trip-end|     trip-end|     null|\n",
      "|11111111-4aec-463...|2017-03-22 17:14:26|  38.76522|-9.098054|  trip-end|         null|     null|\n",
      "|11111111-74d8-4eb...|2017-03-22 16:50:25|38.7735368|-9.168737|trip-start|         null| trip-end|\n",
      "|11111111-74d8-4eb...|2017-03-22 17:14:26|  38.76522|-9.098054|  trip-end|   trip-start|     null|\n",
      "|11111111-79e4-45a...|2017-03-22 17:14:26|  38.76522|-9.098054|  trip-end|         null| trip-end|\n",
      "|11111111-79e4-45a...|2017-03-22 17:14:26|  38.76522|-9.098054|  trip-end|     trip-end|     null|\n",
      "|11111111-92b5-434...|2017-03-22 16:50:25|38.7735368|-9.168737|trip-start|         null|     null|\n",
      "|11111111-a924-49c...|2017-03-22 16:50:25|38.7735368|-9.168737|trip-start|         null| trip-end|\n",
      "|11111111-a924-49c...|2017-03-22 17:14:26|  38.76522|-9.098054|  trip-end|   trip-start|     null|\n",
      "|11111111-ae56-45e...|2017-03-22 16:50:25|38.7735368|-9.168737|trip-start|         null| trip-end|\n",
      "|11111111-ae56-45e...|2017-03-22 17:14:26|  38.76522|-9.098054|  trip-end|   trip-start| trip-end|\n",
      "|11111111-ae56-45e...|2017-03-22 17:14:26|  38.76522|-9.098054|  trip-end|     trip-end| trip-end|\n",
      "|11111111-ae56-45e...|2017-03-22 17:14:26|  38.76522|-9.098054|  trip-end|     trip-end|     null|\n",
      "+--------------------+-------------------+----------+---------+----------+-------------+---------+\n",
      "only showing top 20 rows\n",
      "\n"
     ]
    }
   ],
   "source": [
    "# Shift values of eventType to add previous and next event\n",
    "allDevices = spark.sql(\"SELECT *, LAG(eventType, 1) OVER (PARTITION BY deviceId ORDER BY eventTime) AS previousEvent, \\\n",
    "LEAD(eventType, 1) OVER (PARTITION BY deviceId ORDER BY eventTime) AS nextEvent FROM cleands\")\n",
    "allDevices.createOrReplaceTempView(\"alldevices\")\n",
    "allDevices.show(20)"
   ]
  },
  {
   "cell_type": "markdown",
   "metadata": {},
   "source": [
    "### 2. Remove trip-start and trip-end non valid rows\n",
    "The only valid data is that which defines a valid trip, that is, a trip-start followed by a trip-end event. Those trip-start with no trip-end after it, or those trip-end without a preceeding trip-start are removed from the dataset."
   ]
  },
  {
   "cell_type": "code",
   "execution_count": 13,
   "metadata": {
    "collapsed": false
   },
   "outputs": [
    {
     "name": "stdout",
     "output_type": "stream",
     "text": [
      "+------------------------------------+-------------------+----------+---------+----------+\n",
      "|deviceId                            |eventTime          |lat       |lon      |eventType |\n",
      "+------------------------------------+-------------------+----------+---------+----------+\n",
      "|11111111-1b2a-4bc0-9818-2b62e59a1a4a|2017-03-22 16:50:25|38.7735368|-9.168737|trip-start|\n",
      "|11111111-1b2a-4bc0-9818-2b62e59a1a4a|2017-03-22 17:14:26|38.76522  |-9.098054|trip-end  |\n",
      "|11111111-3306-4d31-b992-cd8b79d45e58|2017-03-22 16:50:25|38.7735368|-9.168737|trip-start|\n",
      "|11111111-3306-4d31-b992-cd8b79d45e58|2017-03-22 17:14:26|38.76522  |-9.098054|trip-end  |\n",
      "|11111111-74d8-4eb3-ae71-693eb56cc990|2017-03-22 16:50:25|38.7735368|-9.168737|trip-start|\n",
      "|11111111-74d8-4eb3-ae71-693eb56cc990|2017-03-22 17:14:26|38.76522  |-9.098054|trip-end  |\n",
      "|11111111-a924-49c8-84b4-60b0c2e7b5d3|2017-03-22 16:50:25|38.7735368|-9.168737|trip-start|\n",
      "|11111111-a924-49c8-84b4-60b0c2e7b5d3|2017-03-22 17:14:26|38.76522  |-9.098054|trip-end  |\n",
      "|11111111-ae56-45e2-9262-c04162e9f08e|2017-03-22 16:50:25|38.7735368|-9.168737|trip-start|\n",
      "|11111111-ae56-45e2-9262-c04162e9f08e|2017-03-22 17:14:26|38.76522  |-9.098054|trip-end  |\n",
      "|11111111-ae96-4ee2-8b2d-8f44f5a49061|2017-03-22 16:50:25|38.7735368|-9.168737|trip-start|\n",
      "|11111111-ae96-4ee2-8b2d-8f44f5a49061|2017-03-22 17:14:26|38.76522  |-9.098054|trip-end  |\n",
      "|11111111-aed0-4e48-b282-bbca26188ad9|2017-03-22 16:50:25|38.7735368|-9.168737|trip-start|\n",
      "|11111111-aed0-4e48-b282-bbca26188ad9|2017-03-22 17:14:26|38.76522  |-9.098054|trip-end  |\n",
      "|11111111-db7b-4f8a-94fc-26525bdbe52c|2017-03-22 16:50:25|38.7735368|-9.168737|trip-start|\n",
      "|11111111-db7b-4f8a-94fc-26525bdbe52c|2017-03-22 17:14:26|38.76522  |-9.098054|trip-end  |\n",
      "|11111111-04ef-4dbf-bf21-c968a6c8aae3|2017-03-22 16:50:25|38.7735368|-9.168737|trip-start|\n",
      "|11111111-04ef-4dbf-bf21-c968a6c8aae3|2017-03-22 17:14:26|38.76522  |-9.098054|trip-end  |\n",
      "|11111111-244e-416e-99bf-f3c8e6139e0a|2017-03-22 16:50:25|38.7735368|-9.168737|trip-start|\n",
      "|11111111-244e-416e-99bf-f3c8e6139e0a|2017-03-22 17:14:26|38.76522  |-9.098054|trip-end  |\n",
      "+------------------------------------+-------------------+----------+---------+----------+\n",
      "only showing top 20 rows\n",
      "\n"
     ]
    }
   ],
   "source": [
    "# Remove non valid trip-start and trip-end (those without its corresponding pair)\n",
    "allDevices = spark.sql(\"SELECT deviceId, eventTime, lat, lon, eventType FROM alldevices \\\n",
    "WHERE NOT ((eventType='trip-end' AND previousEvent='trip-end') \\\n",
    "OR (eventType='trip-start' AND nextEvent='trip-start'))\")\n",
    "allDevices.createOrReplaceTempView(\"alldevices\")\n",
    "allDevices.show(20, False)"
   ]
  },
  {
   "cell_type": "markdown",
   "metadata": {},
   "source": [
    "### 3. Put all the data of every complete trip in the same row\n",
    "We move the position and time data of every complete trip in a single row. This way we will be able to process each row as a trip, and we'll no longer need deviceId or eventType"
   ]
  },
  {
   "cell_type": "code",
   "execution_count": 14,
   "metadata": {
    "collapsed": false
   },
   "outputs": [
    {
     "name": "stdout",
     "output_type": "stream",
     "text": [
      "+-------------------+-------------------+----------+---------+--------+---------+\n",
      "|eventTimeStart     |eventTimeEnd       |latStart  |lonStart |latEnd  |lonEnd   |\n",
      "+-------------------+-------------------+----------+---------+--------+---------+\n",
      "|2017-03-22 16:50:25|2017-03-22 17:14:26|38.7735368|-9.168737|38.76522|-9.098054|\n",
      "|2017-03-22 16:50:25|2017-03-22 17:14:26|38.7735368|-9.168737|38.76522|-9.098054|\n",
      "|2017-03-22 16:50:25|2017-03-22 17:14:26|38.7735368|-9.168737|38.76522|-9.098054|\n",
      "|2017-03-22 16:50:25|2017-03-22 17:14:26|38.7735368|-9.168737|38.76522|-9.098054|\n",
      "|2017-03-22 16:50:25|2017-03-22 17:14:26|38.7735368|-9.168737|38.76522|-9.098054|\n",
      "|2017-03-22 16:50:25|2017-03-22 17:14:26|38.7735368|-9.168737|38.76522|-9.098054|\n",
      "|2017-03-22 16:50:25|2017-03-22 17:14:26|38.7735368|-9.168737|38.76522|-9.098054|\n",
      "|2017-03-22 16:50:25|2017-03-22 17:14:26|38.7735368|-9.168737|38.76522|-9.098054|\n",
      "|2017-03-22 16:50:25|2017-03-22 17:14:26|38.7735368|-9.168737|38.76522|-9.098054|\n",
      "|2017-03-22 16:50:25|2017-03-22 17:14:26|38.7735368|-9.168737|38.76522|-9.098054|\n",
      "|2017-03-22 16:50:25|2017-03-22 17:14:26|38.7735368|-9.168737|38.76522|-9.098054|\n",
      "|2017-03-22 16:50:25|2017-03-22 17:14:26|38.7735368|-9.168737|38.76522|-9.098054|\n",
      "|2017-03-22 16:50:25|2017-03-22 17:14:26|38.7735368|-9.168737|38.76522|-9.098054|\n",
      "|2017-03-22 16:50:25|2017-03-22 17:14:26|38.7735368|-9.168737|38.76522|-9.098054|\n",
      "|2017-03-22 16:50:25|2017-03-22 17:14:26|38.7735368|-9.168737|38.76522|-9.098054|\n",
      "|2017-03-22 16:50:25|2017-03-22 17:14:26|38.7735368|-9.168737|38.76522|-9.098054|\n",
      "|2017-03-22 16:50:25|2017-03-22 17:14:26|38.7735368|-9.168737|38.76522|-9.098054|\n",
      "|2017-03-22 16:50:25|2017-03-22 17:14:26|38.7735368|-9.168737|38.76522|-9.098054|\n",
      "|2017-03-22 16:50:25|2017-03-22 17:14:26|38.7735368|-9.168737|38.76522|-9.098054|\n",
      "|2017-03-22 16:50:25|2017-03-22 17:14:26|38.7735368|-9.168737|38.76522|-9.098054|\n",
      "+-------------------+-------------------+----------+---------+--------+---------+\n",
      "only showing top 20 rows\n",
      "\n"
     ]
    }
   ],
   "source": [
    "# Move start and end values of a trip to a single row. We won't need deviceId any more\n",
    "allDevices = spark.sql(\"SELECT eventTime AS eventTimeStart, \\\n",
    "LEAD(eventTime, 1) OVER (PARTITION BY deviceId ORDER BY eventTime) AS eventTimeEnd, lat AS latStart, lon AS lonStart, \\\n",
    "LEAD(lat, 1) OVER (PARTITION BY deviceId ORDER BY eventTime) AS latEnd, \\\n",
    "LEAD(lon, 1) OVER (PARTITION BY deviceId ORDER BY eventTime) AS lonEnd, \\\n",
    "eventType FROM alldevices\")\n",
    "allDevices.createOrReplaceTempView(\"alldevices\")\n",
    "allDevices = spark.sql(\"SELECT eventTimeStart, eventTimeEnd, latStart, lonStart, latEnd, lonEnd \\\n",
    "FROM alldevices WHERE eventType='trip-start'\")\n",
    "allDevices.createOrReplaceTempView(\"alldevices\")\n",
    "allDevices.show(20, False)"
   ]
  },
  {
   "cell_type": "code",
   "execution_count": 16,
   "metadata": {
    "collapsed": false
   },
   "outputs": [
    {
     "data": {
      "text/plain": [
       "3154"
      ]
     },
     "execution_count": 16,
     "metadata": {},
     "output_type": "execute_result"
    }
   ],
   "source": [
    "allDevices.count()"
   ]
  },
  {
   "cell_type": "markdown",
   "metadata": {},
   "source": [
    "### Remove duplicates\n",
    "After examining the resulting data, we observe that there many registers with exactly the same data for the time start and de starting and end position, so we remove the redundant data to avoid bias on the predicting model"
   ]
  },
  {
   "cell_type": "code",
   "execution_count": 17,
   "metadata": {
    "collapsed": false
   },
   "outputs": [
    {
     "name": "stdout",
     "output_type": "stream",
     "text": [
      "+-------------------+-------------------+---------+----------+---------+----------+\n",
      "|eventTimeStart     |eventTimeEnd       |latStart |lonStart  |latEnd   |lonEnd    |\n",
      "+-------------------+-------------------+---------+----------+---------+----------+\n",
      "|2017-05-24 12:56:34|2017-05-24 12:56:37|47.409291|8.546942  |47.423743|8.555213  |\n",
      "|2017-05-24 15:43:57|2017-05-24 15:44:00|47.409291|8.546942  |47.423743|8.555213  |\n",
      "|2017-05-24 15:57:30|2017-05-24 15:57:30|47.409291|8.546942  |47.423743|8.555213  |\n",
      "|2017-05-24 15:59:53|2017-05-24 15:59:55|47.409291|8.546942  |47.423743|8.555213  |\n",
      "|2017-05-24 16:19:29|2017-05-24 16:19:31|47.409291|8.546942  |47.423743|8.555213  |\n",
      "|2017-05-24 16:26:59|2017-05-24 16:27:00|47.409291|8.546942  |47.423743|8.555213  |\n",
      "|2017-05-24 12:30:43|2017-05-24 12:30:48|47.409291|8.546942  |47.423743|8.555213  |\n",
      "|2017-05-24 12:33:54|2017-05-24 12:33:54|47.409291|8.546942  |47.423743|8.555213  |\n",
      "|2017-05-24 13:02:34|2017-05-24 13:02:36|47.409291|8.546942  |47.423743|8.555213  |\n",
      "|2017-05-24 13:42:53|2017-05-24 13:42:54|47.409291|8.546942  |47.423743|8.555213  |\n",
      "|2017-05-24 15:03:52|2017-05-24 15:03:52|47.409291|8.546942  |47.423743|8.555213  |\n",
      "|2017-05-24 15:38:54|2017-05-24 15:38:58|47.409291|8.546942  |47.423743|8.555213  |\n",
      "|2017-05-24 16:20:09|2017-05-24 16:20:12|47.409291|8.546942  |47.423743|8.555213  |\n",
      "|2017-05-24 17:30:17|2017-05-24 17:30:20|47.409291|8.546942  |47.423743|8.555213  |\n",
      "|2017-05-26 02:14:13|2017-05-26 02:18:23|32.911878|-96.958552|32.91553 |-96.942624|\n",
      "|2017-05-24 12:27:43|2017-05-24 12:27:49|47.409291|8.546942  |47.423743|8.555213  |\n",
      "|2017-05-24 13:07:07|2017-05-24 13:07:09|47.409291|8.546942  |47.423743|8.555213  |\n",
      "|2017-05-24 15:34:09|2017-05-24 15:34:11|47.409291|8.546942  |47.423743|8.555213  |\n",
      "|2017-05-24 15:40:49|2017-05-24 15:40:49|47.409291|8.546942  |47.423743|8.555213  |\n",
      "|2017-05-24 16:09:05|2017-05-24 16:09:05|47.409291|8.546942  |47.423743|8.555213  |\n",
      "+-------------------+-------------------+---------+----------+---------+----------+\n",
      "only showing top 20 rows\n",
      "\n"
     ]
    }
   ],
   "source": [
    "allDevices = allDevices.dropDuplicates(['eventTimeStart', 'latStart', 'lonStart', 'latEnd', 'lonEnd'])\n",
    "allDevices.show(20, False)"
   ]
  },
  {
   "cell_type": "code",
   "execution_count": 18,
   "metadata": {
    "collapsed": false
   },
   "outputs": [
    {
     "data": {
      "text/plain": [
       "1537"
      ]
     },
     "execution_count": 18,
     "metadata": {},
     "output_type": "execute_result"
    }
   ],
   "source": [
    "allDevices.count()"
   ]
  },
  {
   "cell_type": "code",
   "execution_count": null,
   "metadata": {
    "collapsed": true
   },
   "outputs": [],
   "source": [
    "import pandas as pd"
   ]
  },
  {
   "cell_type": "code",
   "execution_count": null,
   "metadata": {
    "collapsed": true
   },
   "outputs": [],
   "source": [
    "dfPanda = singleDevice.toPandas()"
   ]
  },
  {
   "cell_type": "code",
   "execution_count": null,
   "metadata": {
    "collapsed": false
   },
   "outputs": [],
   "source": [
    "dfPanda"
   ]
  },
  {
   "cell_type": "code",
   "execution_count": null,
   "metadata": {
    "collapsed": true
   },
   "outputs": [],
   "source": []
  }
 ],
 "metadata": {
  "kernelspec": {
   "display_name": "datascience",
   "language": "python",
   "name": "datascience"
  },
  "language_info": {
   "codemirror_mode": {
    "name": "ipython",
    "version": 3
   },
   "file_extension": ".py",
   "mimetype": "text/x-python",
   "name": "python",
   "nbconvert_exporter": "python",
   "pygments_lexer": "ipython3",
   "version": "3.5.3"
  }
 },
 "nbformat": 4,
 "nbformat_minor": 0
}
