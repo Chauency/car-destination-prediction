{
 "cells": [
  {
   "cell_type": "code",
   "execution_count": null,
   "metadata": {
    "collapsed": true
   },
   "outputs": [],
   "source": [
    "import findspark\n",
    "findspark.init()\n",
    "import pyspark\n",
    "import os\n",
    "\n",
    "sc = pyspark.SparkContext()\n",
    "spark = pyspark.SQLContext(sc)\n",
    "\n",
    "working_dir = os.getcwd()"
   ]
  },
  {
   "cell_type": "code",
   "execution_count": 1,
   "metadata": {
    "collapsed": false
   },
   "outputs": [],
   "source": [
    "# Load parquet file into dataframe\n",
    "df = spark.read.parquet(\"file://\" + working_dir + \"/testDataset/part-00000-711fabb0-5efc-4d83-afad-0e03a3156794.snappy.parquet\")"
   ]
  },
  {
   "cell_type": "code",
   "execution_count": 8,
   "metadata": {
    "collapsed": false
   },
   "outputs": [
    {
     "data": {
      "text/plain": [
       "600000"
      ]
     },
     "execution_count": 8,
     "metadata": {},
     "output_type": "execute_result"
    }
   ],
   "source": [
    "# Count lines\n",
    "df.count()"
   ]
  },
  {
   "cell_type": "code",
   "execution_count": 59,
   "metadata": {
    "collapsed": false
   },
   "outputs": [
    {
     "name": "stdout",
     "output_type": "stream",
     "text": [
      "+--------------------+--------------------+-------------------+---------+--------+---------+\n",
      "|            deviceId|             eventId|          eventTime|      lat|     lon|eventType|\n",
      "+--------------------+--------------------+-------------------+---------+--------+---------+\n",
      "|8f88ac99-8aa5-88a...|000c5bd2-d2d5-4cf...|2017-05-24 12:34:40|47.409271|8.547062| location|\n",
      "|8f88ac99-8aa5-88a...|001b3982-ec22-4bb...|2017-05-24 16:21:41|47.417977|8.554384| location|\n",
      "|8f88ac99-8aa5-88a...|00287463-b763-40b...|2017-05-24 16:02:50|47.416406| 8.55298| location|\n",
      "|8f88ac99-8aa5-88a...|002946bb-19b8-40a...|2017-05-24 15:03:39|47.417743|8.554184| location|\n",
      "|8f88ac99-8aa5-88a...|002947fd-bb93-434...|2017-05-24 12:56:02|47.406545|8.547231| location|\n",
      "+--------------------+--------------------+-------------------+---------+--------+---------+\n",
      "only showing top 5 rows\n",
      "\n"
     ]
    }
   ],
   "source": [
    "# Show first 5 lines\n",
    "df.show(5)"
   ]
  },
  {
   "cell_type": "code",
   "execution_count": 16,
   "metadata": {
    "collapsed": false
   },
   "outputs": [
    {
     "data": {
      "text/plain": [
       "<bound method DataFrameNaFunctions.drop of <pyspark.sql.dataframe.DataFrameNaFunctions object at 0x10c8e7f98>>"
      ]
     },
     "execution_count": 16,
     "metadata": {},
     "output_type": "execute_result"
    }
   ],
   "source": [
    "# Remove rows with any null or NaN value\n",
    "df.dropna"
   ]
  },
  {
   "cell_type": "code",
   "execution_count": 17,
   "metadata": {
    "collapsed": true
   },
   "outputs": [],
   "source": [
    "# Create Temp View from the dataset\n",
    "df.createOrReplaceTempView(\"dataset\")"
   ]
  },
  {
   "cell_type": "code",
   "execution_count": 64,
   "metadata": {
    "collapsed": false
   },
   "outputs": [],
   "source": [
    "# 1. Create a view with only the values we need for processing\n",
    "spark.sql(\"SELECT deviceId, eventTime, lat, lon, eventType FROM dataset WHERE (eventType='trip-start' OR eventType='trip-end') \\\n",
    "AND (lat != 0.0 and lon != 0.0) ORDER BY eventTime\").createOrReplaceTempView(\"cleands\")\n"
   ]
  },
  {
   "cell_type": "markdown",
   "metadata": {},
   "source": [
    "## Explore data transformation for a single device\n",
    "The purpose is to reduce the problem so that we are sure that the transformations that we apply to the data produce the desired results. \n",
    "The aim of these transformations is to clean the dataset and take only the correctly paired start-trip / end-trip data."
   ]
  },
  {
   "cell_type": "code",
   "execution_count": 142,
   "metadata": {
    "collapsed": false
   },
   "outputs": [
    {
     "name": "stdout",
     "output_type": "stream",
     "text": [
      "+------------------------------------+-------------------+---------+----------+----------+\n",
      "|deviceId                            |eventTime          |lat      |lon       |eventType |\n",
      "+------------------------------------+-------------------+---------+----------+----------+\n",
      "|D08699AE-BDAC-4AB4-2F15-177C74993133|2017-05-25 23:46:05|32.988837|-97.263735|trip-end  |\n",
      "|D08699AE-BDAC-4AB4-2F15-177C74993133|2017-05-25 23:46:09|32.988837|-97.263735|trip-end  |\n",
      "|D08699AE-BDAC-4AB4-2F15-177C74993133|2017-05-26 00:35:30|32.98925 |-97.263821|trip-end  |\n",
      "|D08699AE-BDAC-4AB4-2F15-177C74993133|2017-05-26 00:35:39|32.989253|-97.263822|trip-start|\n",
      "|D08699AE-BDAC-4AB4-2F15-177C74993133|2017-05-26 02:08:40|32.841525|-97.068658|trip-end  |\n",
      "|D08699AE-BDAC-4AB4-2F15-177C74993133|2017-05-26 02:08:46|32.841525|-97.068658|trip-end  |\n",
      "|D08699AE-BDAC-4AB4-2F15-177C74993133|2017-05-26 13:57:30|32.926142|-97.087224|trip-start|\n",
      "|D08699AE-BDAC-4AB4-2F15-177C74993133|2017-05-26 19:17:41|32.98928 |-97.264482|trip-start|\n",
      "|D08699AE-BDAC-4AB4-2F15-177C74993133|2017-05-26 19:19:30|32.988822|-97.263723|trip-end  |\n",
      "|D08699AE-BDAC-4AB4-2F15-177C74993133|2017-05-31 14:35:46|32.988778|-97.263861|trip-end  |\n",
      "|D08699AE-BDAC-4AB4-2F15-177C74993133|2017-06-01 00:11:22|32.989214|-97.26381 |trip-start|\n",
      "|D08699AE-BDAC-4AB4-2F15-177C74993133|2017-06-01 00:38:47|32.841445|-97.06854 |trip-end  |\n",
      "|D08699AE-BDAC-4AB4-2F15-177C74993133|2017-06-01 13:31:50|32.790594|-97.134356|trip-end  |\n",
      "|D08699AE-BDAC-4AB4-2F15-177C74993133|2017-06-01 13:44:54|32.789698|-97.133493|trip-start|\n",
      "|D08699AE-BDAC-4AB4-2F15-177C74993133|2017-06-02 01:17:43|32.84152 |-97.068662|trip-end  |\n",
      "|D08699AE-BDAC-4AB4-2F15-177C74993133|2017-06-02 14:07:44|32.841552|-97.068303|trip-start|\n",
      "|D08699AE-BDAC-4AB4-2F15-177C74993133|2017-06-02 14:32:29|32.988817|-97.263714|trip-end  |\n",
      "|D08699AE-BDAC-4AB4-2F15-177C74993133|2017-06-08 02:19:02|32.822621|-97.058403|trip-start|\n",
      "|D08699AE-BDAC-4AB4-2F15-177C74993133|2017-06-08 13:53:49|32.847142|-97.076774|trip-end  |\n",
      "|D08699AE-BDAC-4AB4-2F15-177C74993133|2017-06-08 13:53:59|32.847143|-97.076774|trip-start|\n",
      "|D08699AE-BDAC-4AB4-2F15-177C74993133|2017-06-09 00:04:53|32.841374|-97.067877|trip-start|\n",
      "|D08699AE-BDAC-4AB4-2F15-177C74993133|2017-06-09 00:05:51|32.841491|-97.068668|trip-end  |\n",
      "|D08699AE-BDAC-4AB4-2F15-177C74993133|2017-06-09 13:56:07|32.840194|-97.083023|trip-end  |\n",
      "|D08699AE-BDAC-4AB4-2F15-177C74993133|2017-06-09 13:56:39|32.840282|-97.083114|trip-end  |\n",
      "|D08699AE-BDAC-4AB4-2F15-177C74993133|2017-06-09 13:57:15|32.843793|-97.081171|trip-start|\n",
      "|D08699AE-BDAC-4AB4-2F15-177C74993133|2017-06-09 13:57:39|32.845665|-97.077159|trip-start|\n",
      "|D08699AE-BDAC-4AB4-2F15-177C74993133|2017-06-09 13:58:24|32.84612 |-97.071799|trip-start|\n",
      "|D08699AE-BDAC-4AB4-2F15-177C74993133|2017-06-10 00:58:05|32.989001|-97.263582|trip-start|\n",
      "|D08699AE-BDAC-4AB4-2F15-177C74993133|2017-06-10 01:23:09|32.841531|-97.068663|trip-end  |\n",
      "|D08699AE-BDAC-4AB4-2F15-177C74993133|2017-06-12 14:46:15|32.988817|-97.26363 |trip-end  |\n",
      "|D08699AE-BDAC-4AB4-2F15-177C74993133|2017-06-13 01:17:59|32.841514|-97.068597|trip-end  |\n",
      "+------------------------------------+-------------------+---------+----------+----------+\n",
      "\n"
     ]
    }
   ],
   "source": [
    "# Show an example of data for a certain device\n",
    "singleDevice = spark.sql(\"SELECT * FROM cleands WHERE deviceId='D08699AE-BDAC-4AB4-2F15-177C74993133'\")\n",
    "singleDevice.createOrReplaceTempView(\"singledevice\")\n",
    "singleDevice.show(100, False)"
   ]
  },
  {
   "cell_type": "markdown",
   "metadata": {},
   "source": [
    "### 1. Extract previous and next event for every row\n",
    "To do this, we use LAG and LEAD window functions to shift the data. The result will add two new columns *previousEvent* and *nextEvent* to the dataset"
   ]
  },
  {
   "cell_type": "code",
   "execution_count": 143,
   "metadata": {
    "collapsed": false
   },
   "outputs": [
    {
     "name": "stdout",
     "output_type": "stream",
     "text": [
      "+--------------------+-------------------+---------+----------+----------+-------------+----------+\n",
      "|            deviceId|          eventTime|      lat|       lon| eventType|previousEvent| nextEvent|\n",
      "+--------------------+-------------------+---------+----------+----------+-------------+----------+\n",
      "|D08699AE-BDAC-4AB...|2017-05-25 23:46:05|32.988837|-97.263735|  trip-end|         null|  trip-end|\n",
      "|D08699AE-BDAC-4AB...|2017-05-25 23:46:09|32.988837|-97.263735|  trip-end|     trip-end|  trip-end|\n",
      "|D08699AE-BDAC-4AB...|2017-05-26 00:35:30| 32.98925|-97.263821|  trip-end|     trip-end|trip-start|\n",
      "|D08699AE-BDAC-4AB...|2017-05-26 00:35:39|32.989253|-97.263822|trip-start|     trip-end|  trip-end|\n",
      "|D08699AE-BDAC-4AB...|2017-05-26 02:08:40|32.841525|-97.068658|  trip-end|   trip-start|  trip-end|\n",
      "|D08699AE-BDAC-4AB...|2017-05-26 02:08:46|32.841525|-97.068658|  trip-end|     trip-end|trip-start|\n",
      "|D08699AE-BDAC-4AB...|2017-05-26 13:57:30|32.926142|-97.087224|trip-start|     trip-end|trip-start|\n",
      "|D08699AE-BDAC-4AB...|2017-05-26 19:17:41| 32.98928|-97.264482|trip-start|   trip-start|  trip-end|\n",
      "|D08699AE-BDAC-4AB...|2017-05-26 19:19:30|32.988822|-97.263723|  trip-end|   trip-start|  trip-end|\n",
      "|D08699AE-BDAC-4AB...|2017-05-31 14:35:46|32.988778|-97.263861|  trip-end|     trip-end|trip-start|\n",
      "|D08699AE-BDAC-4AB...|2017-06-01 00:11:22|32.989214| -97.26381|trip-start|     trip-end|  trip-end|\n",
      "|D08699AE-BDAC-4AB...|2017-06-01 00:38:47|32.841445| -97.06854|  trip-end|   trip-start|  trip-end|\n",
      "|D08699AE-BDAC-4AB...|2017-06-01 13:31:50|32.790594|-97.134356|  trip-end|     trip-end|trip-start|\n",
      "|D08699AE-BDAC-4AB...|2017-06-01 13:44:54|32.789698|-97.133493|trip-start|     trip-end|  trip-end|\n",
      "|D08699AE-BDAC-4AB...|2017-06-02 01:17:43| 32.84152|-97.068662|  trip-end|   trip-start|trip-start|\n",
      "|D08699AE-BDAC-4AB...|2017-06-02 14:07:44|32.841552|-97.068303|trip-start|     trip-end|  trip-end|\n",
      "|D08699AE-BDAC-4AB...|2017-06-02 14:32:29|32.988817|-97.263714|  trip-end|   trip-start|trip-start|\n",
      "|D08699AE-BDAC-4AB...|2017-06-08 02:19:02|32.822621|-97.058403|trip-start|     trip-end|  trip-end|\n",
      "|D08699AE-BDAC-4AB...|2017-06-08 13:53:49|32.847142|-97.076774|  trip-end|   trip-start|trip-start|\n",
      "|D08699AE-BDAC-4AB...|2017-06-08 13:53:59|32.847143|-97.076774|trip-start|     trip-end|trip-start|\n",
      "|D08699AE-BDAC-4AB...|2017-06-09 00:04:53|32.841374|-97.067877|trip-start|   trip-start|  trip-end|\n",
      "|D08699AE-BDAC-4AB...|2017-06-09 00:05:51|32.841491|-97.068668|  trip-end|   trip-start|  trip-end|\n",
      "|D08699AE-BDAC-4AB...|2017-06-09 13:56:07|32.840194|-97.083023|  trip-end|     trip-end|  trip-end|\n",
      "|D08699AE-BDAC-4AB...|2017-06-09 13:56:39|32.840282|-97.083114|  trip-end|     trip-end|trip-start|\n",
      "|D08699AE-BDAC-4AB...|2017-06-09 13:57:15|32.843793|-97.081171|trip-start|     trip-end|trip-start|\n",
      "|D08699AE-BDAC-4AB...|2017-06-09 13:57:39|32.845665|-97.077159|trip-start|   trip-start|trip-start|\n",
      "|D08699AE-BDAC-4AB...|2017-06-09 13:58:24| 32.84612|-97.071799|trip-start|   trip-start|trip-start|\n",
      "|D08699AE-BDAC-4AB...|2017-06-10 00:58:05|32.989001|-97.263582|trip-start|   trip-start|  trip-end|\n",
      "|D08699AE-BDAC-4AB...|2017-06-10 01:23:09|32.841531|-97.068663|  trip-end|   trip-start|  trip-end|\n",
      "|D08699AE-BDAC-4AB...|2017-06-12 14:46:15|32.988817| -97.26363|  trip-end|     trip-end|  trip-end|\n",
      "|D08699AE-BDAC-4AB...|2017-06-13 01:17:59|32.841514|-97.068597|  trip-end|     trip-end|      null|\n",
      "+--------------------+-------------------+---------+----------+----------+-------------+----------+\n",
      "\n"
     ]
    }
   ],
   "source": [
    "# Shift values of eventType to add previous and next event\n",
    "singleDevice = spark.sql(\"SELECT *, LAG(eventType, 1) OVER (ORDER BY eventTime) AS previousEvent, \\\n",
    "LEAD(eventType, 1) OVER (ORDER BY eventTime) AS nextEvent FROM singledevice\")\n",
    "singleDevice.createOrReplaceTempView(\"singledevice\")\n",
    "singleDevice.show(100)"
   ]
  },
  {
   "cell_type": "markdown",
   "metadata": {},
   "source": [
    "### 2. Remove trip-start and trip-end non valid rows\n",
    "The only valid data is that which defines a valid trip, that is, a trip-start followed by a trip-end event. Those trip-start with no trip-end after it, or those trip-end without a preceeding trip-start are removed from the dataset."
   ]
  },
  {
   "cell_type": "code",
   "execution_count": 144,
   "metadata": {
    "collapsed": false
   },
   "outputs": [
    {
     "name": "stdout",
     "output_type": "stream",
     "text": [
      "+------------------------------------+-------------------+---------+----------+----------+\n",
      "|deviceId                            |eventTime          |lat      |lon       |eventType |\n",
      "+------------------------------------+-------------------+---------+----------+----------+\n",
      "|D08699AE-BDAC-4AB4-2F15-177C74993133|2017-05-26 00:35:39|32.989253|-97.263822|trip-start|\n",
      "|D08699AE-BDAC-4AB4-2F15-177C74993133|2017-05-26 02:08:40|32.841525|-97.068658|trip-end  |\n",
      "|D08699AE-BDAC-4AB4-2F15-177C74993133|2017-05-26 19:17:41|32.98928 |-97.264482|trip-start|\n",
      "|D08699AE-BDAC-4AB4-2F15-177C74993133|2017-05-26 19:19:30|32.988822|-97.263723|trip-end  |\n",
      "|D08699AE-BDAC-4AB4-2F15-177C74993133|2017-06-01 00:11:22|32.989214|-97.26381 |trip-start|\n",
      "|D08699AE-BDAC-4AB4-2F15-177C74993133|2017-06-01 00:38:47|32.841445|-97.06854 |trip-end  |\n",
      "|D08699AE-BDAC-4AB4-2F15-177C74993133|2017-06-01 13:44:54|32.789698|-97.133493|trip-start|\n",
      "|D08699AE-BDAC-4AB4-2F15-177C74993133|2017-06-02 01:17:43|32.84152 |-97.068662|trip-end  |\n",
      "|D08699AE-BDAC-4AB4-2F15-177C74993133|2017-06-02 14:07:44|32.841552|-97.068303|trip-start|\n",
      "|D08699AE-BDAC-4AB4-2F15-177C74993133|2017-06-02 14:32:29|32.988817|-97.263714|trip-end  |\n",
      "|D08699AE-BDAC-4AB4-2F15-177C74993133|2017-06-08 02:19:02|32.822621|-97.058403|trip-start|\n",
      "|D08699AE-BDAC-4AB4-2F15-177C74993133|2017-06-08 13:53:49|32.847142|-97.076774|trip-end  |\n",
      "|D08699AE-BDAC-4AB4-2F15-177C74993133|2017-06-09 00:04:53|32.841374|-97.067877|trip-start|\n",
      "|D08699AE-BDAC-4AB4-2F15-177C74993133|2017-06-09 00:05:51|32.841491|-97.068668|trip-end  |\n",
      "|D08699AE-BDAC-4AB4-2F15-177C74993133|2017-06-10 00:58:05|32.989001|-97.263582|trip-start|\n",
      "|D08699AE-BDAC-4AB4-2F15-177C74993133|2017-06-10 01:23:09|32.841531|-97.068663|trip-end  |\n",
      "+------------------------------------+-------------------+---------+----------+----------+\n",
      "\n"
     ]
    }
   ],
   "source": [
    "# Remove non valid trip-start and trip-end (those without its corresponding pair)\n",
    "singleDevice = spark.sql(\"SELECT deviceId, eventTime, lat, lon, eventType FROM singledevice \\\n",
    "WHERE NOT ((eventType='trip-end' AND previousEvent='trip-end') \\\n",
    "OR (eventType='trip-start' AND nextEvent='trip-start'))\")\n",
    "singleDevice.createOrReplaceTempView(\"singledevice\")\n",
    "singleDevice.show(100, False)\n"
   ]
  },
  {
   "cell_type": "markdown",
   "metadata": {},
   "source": [
    "### 3. Put all the data of every complete trip in the same row\n",
    "We move the position and time data of every complete trip in a single row. This way we will be able to process each row as a trip, and we'll no longer need deviceId or eventType"
   ]
  },
  {
   "cell_type": "code",
   "execution_count": 145,
   "metadata": {
    "collapsed": false
   },
   "outputs": [
    {
     "name": "stdout",
     "output_type": "stream",
     "text": [
      "+-------------------+-------------------+---------+----------+---------+----------+\n",
      "|eventTimeStart     |eventTimeEnd       |latStart |lonStart  |latEnd   |lonEnd    |\n",
      "+-------------------+-------------------+---------+----------+---------+----------+\n",
      "|2017-05-26 00:35:39|2017-05-26 02:08:40|32.989253|-97.263822|32.841525|-97.068658|\n",
      "|2017-05-26 19:17:41|2017-05-26 19:19:30|32.98928 |-97.264482|32.988822|-97.263723|\n",
      "|2017-06-01 00:11:22|2017-06-01 00:38:47|32.989214|-97.26381 |32.841445|-97.06854 |\n",
      "|2017-06-01 13:44:54|2017-06-02 01:17:43|32.789698|-97.133493|32.84152 |-97.068662|\n",
      "|2017-06-02 14:07:44|2017-06-02 14:32:29|32.841552|-97.068303|32.988817|-97.263714|\n",
      "|2017-06-08 02:19:02|2017-06-08 13:53:49|32.822621|-97.058403|32.847142|-97.076774|\n",
      "|2017-06-09 00:04:53|2017-06-09 00:05:51|32.841374|-97.067877|32.841491|-97.068668|\n",
      "|2017-06-10 00:58:05|2017-06-10 01:23:09|32.989001|-97.263582|32.841531|-97.068663|\n",
      "+-------------------+-------------------+---------+----------+---------+----------+\n",
      "\n"
     ]
    }
   ],
   "source": [
    "# Move start and end values of a trip to a single row. We won't need deviceId any more\n",
    "singleDevice = spark.sql(\"SELECT eventTime AS eventTimeStart, \\\n",
    "LEAD(eventTime, 1) OVER (ORDER BY eventTime) AS eventTimeEnd, lat AS latStart, lon AS lonStart, \\\n",
    "LEAD(lat, 1) OVER (ORDER BY eventTime) AS latEnd, \\\n",
    "LEAD(lon, 1) OVER (ORDER BY eventTime) AS lonEnd, \\\n",
    "eventType FROM singledevice\")\n",
    "singleDevice.createOrReplaceTempView(\"singledevice\")\n",
    "singleDevice = spark.sql(\"SELECT eventTimeStart, eventTimeEnd, latStart, lonStart, latEnd, lonEnd \\\n",
    "FROM singledevice WHERE eventType='trip-start'\")\n",
    "singleDevice.createOrReplaceTempView(\"singledevice\")\n",
    "singleDevice.show(100, False)"
   ]
  },
  {
   "cell_type": "markdown",
   "metadata": {},
   "source": [
    "## Apply the transformations to the whole dataset"
   ]
  },
  {
   "cell_type": "code",
   "execution_count": null,
   "metadata": {
    "collapsed": true
   },
   "outputs": [],
   "source": []
  }
 ],
 "metadata": {
  "kernelspec": {
   "display_name": "datascience",
   "language": "python",
   "name": "datascience"
  },
  "language_info": {
   "codemirror_mode": {
    "name": "ipython",
    "version": 3
   },
   "file_extension": ".py",
   "mimetype": "text/x-python",
   "name": "python",
   "nbconvert_exporter": "python",
   "pygments_lexer": "ipython3",
   "version": "3.5.3"
  }
 },
 "nbformat": 4,
 "nbformat_minor": 0
}
